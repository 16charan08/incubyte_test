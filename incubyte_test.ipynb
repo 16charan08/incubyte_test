{
  "nbformat": 4,
  "nbformat_minor": 0,
  "metadata": {
    "colab": {
      "name": "incubyte_test.ipynb",
      "provenance": [],
      "collapsed_sections": []
    },
    "kernelspec": {
      "name": "python3",
      "display_name": "Python 3"
    },
    "language_info": {
      "name": "python"
    }
  },
  "cells": [
    {
      "cell_type": "code",
      "metadata": {
        "id": "9H7bbUb12rSb"
      },
      "source": [
        "# This script reads data from file with isn't country specific and spark created schema without needing to write any create table query.\n",
        "from pyspark.sql import SparkSession\n",
        "\n",
        "spark = SparkSession \\\n",
        "        .builder \\\n",
        "        .appName(\"Read Files\") \\\n",
        "        .getOrCreate()\n",
        "        # .master('local[*]') \\\n",
        "df = spark.read \\\n",
        "        .option(\"header\", True) \\\n",
        "        .option(\"delimiter\", \"|\") \\\n",
        "        .option('inferSchema', True)\\\n",
        "        .format(\"csv\") \\\n",
        "        .load(\"dbfs:/FileStore/ramdata.txt\")\n",
        "\n",
        "\n",
        "\n",
        "df=df.drop('_c0')\n",
        "df.write.partitionBy(\"Country\").mode(\"overwrite\").option(\"header\", True).csv(\"dbfs:/FileStore/Country\")"
      ],
      "execution_count": null,
      "outputs": []
    },
    {
      "cell_type": "code",
      "metadata": {
        "id": "llusB1cv24Pc"
      },
      "source": [
        "# This code stores the data country wise as meta data.\n",
        "from pyspark.sql import SparkSession\n",
        "\n",
        "spark = SparkSession \\\n",
        "        .builder \\\n",
        "        .appName(\"Read Files\") \\\n",
        "        .getOrCreate()\n",
        "        # .master('local[*]') \\\n",
        "df = spark.read \\\n",
        "        .option(\"header\", True) \\\n",
        "        .option(\"delimiter\", \",\") \\\n",
        "        .option('inferSchema', True)\\\n",
        "        .format(\"csv\") \\\n",
        "        .load(\"dbfs:/FileStore/Country/Country=IND\")\n",
        "\n",
        "\n",
        "df.show()"
      ],
      "execution_count": null,
      "outputs": []
    }
  ]
}